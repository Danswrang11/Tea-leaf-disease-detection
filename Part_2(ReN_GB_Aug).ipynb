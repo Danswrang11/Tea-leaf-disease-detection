{
  "nbformat": 4,
  "nbformat_minor": 0,
  "metadata": {
    "colab": {
      "provenance": [],
      "mount_file_id": "1nx3Z-5_5zVqwmrDqdbmdJFbJJrfbwlQC",
      "authorship_tag": "ABX9TyOTP9sYhBkooa/eiI1X13Bg",
      "include_colab_link": true
    },
    "kernelspec": {
      "name": "python3",
      "display_name": "Python 3"
    },
    "language_info": {
      "name": "python"
    }
  },
  "cells": [
    {
      "cell_type": "markdown",
      "metadata": {
        "id": "view-in-github",
        "colab_type": "text"
      },
      "source": [
        "<a href=\"https://colab.research.google.com/github/Danswrang11/Tea-leaf-disease-detection/blob/main/Part_2(ReN_GB_Aug).ipynb\" target=\"_parent\"><img src=\"https://colab.research.google.com/assets/colab-badge.svg\" alt=\"Open In Colab\"/></a>"
      ]
    },
    {
      "cell_type": "markdown",
      "source": [
        "# Importing Necessary Library"
      ],
      "metadata": {
        "id": "6QBPJGpIu9E6"
      }
    },
    {
      "cell_type": "code",
      "execution_count": null,
      "metadata": {
        "id": "c7JkftabnWj0"
      },
      "outputs": [],
      "source": [
        "import numpy as np\n",
        "import pandas as pd\n",
        "import matplotlib.pyplot as plt\n",
        "import os\n",
        "import PIL\n",
        "\n",
        "import tensorflow as tf\n",
        "from tensorflow import keras\n",
        "from tensorflow.keras import layers\n",
        "from tensorflow.keras.models import Sequential\n",
        "from sklearn.metrics import classification_report\n",
        "import pathlib"
      ]
    },
    {
      "cell_type": "code",
      "source": [
        "dataset_path = \"/content/drive/MyDrive/Project/Dataset_1\"\n",
        "dataset_dir = pathlib.Path(dataset_path)"
      ],
      "metadata": {
        "id": "ARp5VH9KfKX9"
      },
      "execution_count": null,
      "outputs": []
    },
    {
      "cell_type": "markdown",
      "source": [
        "# view list of sub directory(class)"
      ],
      "metadata": {
        "id": "gDIUi8gRvO0Z"
      }
    },
    {
      "cell_type": "code",
      "source": [
        "class_names = []\n",
        "for root, dirs, files in os.walk(dataset_path):\n",
        "    if root != dataset_path:\n",
        "        x_class = os.path.basename(root)\n",
        "        if x_class not in class_names:\n",
        "            class_names.append(x_class)\n",
        "\n",
        "print(class_names)"
      ],
      "metadata": {
        "colab": {
          "base_uri": "https://localhost:8080/"
        },
        "id": "YBWoea54fLTR",
        "outputId": "46fc7ac0-076c-4941-aebf-85db260cdcee"
      },
      "execution_count": null,
      "outputs": [
        {
          "output_type": "stream",
          "name": "stdout",
          "text": [
            "['Algal spot', 'Anthracnose', 'Birds eye spot', 'Gray blight', 'Brown blight', 'Healthy', 'Non tea leaf', 'Red leaf spot', 'White spot']\n"
          ]
        }
      ]
    },
    {
      "cell_type": "markdown",
      "source": [
        "# print total number of images in the dataset"
      ],
      "metadata": {
        "id": "TqceiQ8NvL9s"
      }
    },
    {
      "cell_type": "code",
      "source": [
        "for class_i in class_names:\n",
        "    image_count = len(list(dataset_dir.glob(f'{class_i}/*.jpg')))\n",
        "    print(f\"Images in class {class_i}:\",image_count)"
      ],
      "metadata": {
        "colab": {
          "base_uri": "https://localhost:8080/"
        },
        "id": "7ygIhcpKfLbf",
        "outputId": "a89d06e3-264c-470a-e505-ac50a174833e"
      },
      "execution_count": null,
      "outputs": [
        {
          "output_type": "stream",
          "name": "stdout",
          "text": [
            "Images in class Algal spot: 126\n",
            "Images in class Anthracnose: 110\n",
            "Images in class Birds eye spot: 114\n",
            "Images in class Gray blight: 111\n",
            "Images in class Brown blight: 124\n",
            "Images in class Healthy: 121\n",
            "Images in class Non tea leaf: 126\n",
            "Images in class Red leaf spot: 127\n",
            "Images in class White spot: 133\n"
          ]
        }
      ]
    },
    {
      "cell_type": "markdown",
      "source": [
        "# Batch Rename"
      ],
      "metadata": {
        "id": "235khIR8hb-H"
      }
    },
    {
      "cell_type": "code",
      "source": [
        "import os\n",
        "import shutil\n",
        "\n",
        "# Set the directory containing the images\n",
        "directory = '/content/drive/MyDrive/Project/Dataset_1/White spot'\n",
        "\n",
        "# Set the starting index for the numbering\n",
        "index = 1\n",
        "\n",
        "# Loop through all the files in the directory\n",
        "for filename in os.listdir(directory):\n",
        "    # Check if the file is an image file\n",
        "    if filename.endswith('.jpg') or filename.endswith('.jpeg') or filename.endswith('.png'):\n",
        "        # Get the full path of the file\n",
        "        filepath = os.path.join(directory, filename)\n",
        "\n",
        "        # Generate a new filename\n",
        "        new_filename = 'White_spot' + '_' + str(index) + '.' + filename.split('.')[1]\n",
        "\n",
        "        # Get the full path of the new file\n",
        "        new_filepath = os.path.join(directory, new_filename)\n",
        "\n",
        "        # Rename the file\n",
        "        shutil.move(filepath, new_filepath)\n",
        "\n",
        "        # Increment the index\n",
        "        index += 1"
      ],
      "metadata": {
        "id": "Ucd5OMIQfLfh"
      },
      "execution_count": null,
      "outputs": []
    },
    {
      "cell_type": "markdown",
      "source": [
        "# Gausian Blur"
      ],
      "metadata": {
        "id": "1TqsskPGHjWG"
      }
    },
    {
      "cell_type": "markdown",
      "source": [
        "### To reduce the noise of our images we have done the Gausian blur"
      ],
      "metadata": {
        "id": "Bsw7zlwrHouv"
      }
    },
    {
      "cell_type": "code",
      "source": [
        "import cv2\n",
        "import numpy as np\n",
        "import os\n",
        "\n",
        "def apply_gaussian_blur(image_path, output_path, kernel_size, sigma):\n",
        "    # Load the image\n",
        "    image = cv2.imread(image_path)\n",
        "\n",
        "    # Apply Gaussian blur\n",
        "    blurred_image = cv2.GaussianBlur(image, (kernel_size, kernel_size), sigma)\n",
        "\n",
        "    # Save the blurred image\n",
        "    filename = os.path.basename(image_path)\n",
        "    output_filename = os.path.join(output_path, filename)\n",
        "    cv2.imwrite(output_filename, blurred_image)\n",
        "\n",
        "dataset_path = 'C:/Users/dansw/A_New_project/Project_II/Output data/White spot'  # Replace with the path to your dataset\n",
        "output_path = 'C:/Users/dansw/A_New_project/Project_II/Output data/White spot Output'  # Replace with the desired output directory\n",
        "kernel_size = 7\n",
        "sigma = 2\n",
        "\n",
        "# Iterate over the dataset\n",
        "for filename in os.listdir(dataset_path):\n",
        "    image_path = os.path.join(dataset_path, filename)\n",
        "    apply_gaussian_blur(image_path, output_path, kernel_size, sigma)"
      ],
      "metadata": {
        "id": "3ZANXjXhHiz-"
      },
      "execution_count": null,
      "outputs": []
    },
    {
      "cell_type": "markdown",
      "source": [
        "# Augmentation"
      ],
      "metadata": {
        "id": "EY07fceelYog"
      }
    },
    {
      "cell_type": "code",
      "source": [
        "from PIL import Image\n",
        "import os"
      ],
      "metadata": {
        "id": "F0fqaliAm42f"
      },
      "execution_count": null,
      "outputs": []
    },
    {
      "cell_type": "code",
      "source": [
        "# Set the list of directories where the images are stored\n",
        "directories = [\"/content/drive/MyDrive/Project/Dataset_1/Algal_spot\", \"/content/drive/MyDrive/Project/Dataset_1/Anthracnose\",\n",
        "               \"/content/drive/MyDrive/Project/Dataset_1/Birds eye spot\", \"/content/drive/MyDrive/Project/Dataset_1/Brown blight\",\n",
        "               \"/content/drive/MyDrive/Project/Dataset_1/Gray blight\",\"/content/drive/MyDrive/Project/Dataset_1/Healthy\",\n",
        "               \"/content/drive/MyDrive/Project/Dataset_1/Non tea leaf\",\"/content/drive/MyDrive/Project/Dataset_1/Red leaf spot\",\n",
        "               \"/content/drive/MyDrive/Project/Dataset_1/White spot\"]\n",
        "\n",
        "# Loop through each directory\n",
        "for directory in directories:\n",
        "    # Loop through each file in the directory\n",
        "    for filename in os.listdir(directory):\n",
        "        if filename.endswith(\".JPG\") or filename.endswith('.jpg'):\n",
        "            # Open the image file using Pillow\n",
        "            img = Image.open(os.path.join(directory, filename))\n",
        "\n",
        "            # Rotate by 90 degrees\n",
        "            rotated_img = img.rotate(90)\n",
        "            rotated_img.save(os.path.join(directory, \"r90_\" + filename))\n",
        "\n",
        "            # Flip horizontally\n",
        "            flipped_img = rotated_img.transpose(Image.FLIP_LEFT_RIGHT)\n",
        "            flipped_img.save(os.path.join(directory, \"r90_flipped_h_\" + filename))\n",
        "\n",
        "            # Flip vertically\n",
        "            flipped_img = rotated_img.transpose(Image.FLIP_TOP_BOTTOM)\n",
        "            flipped_img.save(os.path.join(directory, \"r90_flipped_v_\" + filename))\n",
        "\n",
        "            # Rotate by -90 degrees\n",
        "            rotated_img = img.rotate(-90)\n",
        "            rotated_img.save(os.path.join(directory, \"r-90_\" + filename))\n",
        "\n",
        "            # Flip the rotated image horizontally\n",
        "            flipped_img = rotated_img.transpose(Image.FLIP_LEFT_RIGHT)\n",
        "            flipped_img.save(os.path.join(directory, \"r-90_flipped_h_\" + filename))\n",
        "\n",
        "            # Flip the rotated image vertically\n",
        "            flipped_img = rotated_img.transpose(Image.FLIP_TOP_BOTTOM)\n",
        "            flipped_img.save(os.path.join(directory, \"r-90_flipped_v_\" + filename))\n",
        "\n",
        "            # Flip the original image horizontally\n",
        "            flipped_original_img = img.transpose(Image.FLIP_LEFT_RIGHT)\n",
        "            flipped_original_img.save(os.path.join(directory, \"flipped_h_\" + filename))\n",
        "\n",
        "            # Flip the rotated image vertically\n",
        "            flipped_original_img = img.transpose(Image.FLIP_TOP_BOTTOM)\n",
        "            flipped_original_img.save(os.path.join(directory, \"flipped_v_\" + filename))\n"
      ],
      "metadata": {
        "id": "n8MCnGYp08tw"
      },
      "execution_count": null,
      "outputs": []
    },
    {
      "cell_type": "markdown",
      "source": [
        "# Visualize"
      ],
      "metadata": {
        "id": "XRaCWtpwv04J"
      }
    },
    {
      "cell_type": "code",
      "source": [
        "dataset_path = \"/content/drive/MyDrive/Project/Dataset_1\"\n",
        "dataset_dir = pathlib.Path(dataset_path)"
      ],
      "metadata": {
        "id": "obM2tlYwfL5H"
      },
      "execution_count": null,
      "outputs": []
    },
    {
      "cell_type": "code",
      "source": [
        "# list of sub directory(class)\n",
        "class_names = []\n",
        "for root, dirs, files in os.walk(dataset_path):\n",
        "    if root != dataset_path:\n",
        "        x_class = os.path.basename(root)\n",
        "        if x_class not in class_names:\n",
        "            class_names.append(x_class)\n",
        "\n",
        "print(class_names)"
      ],
      "metadata": {
        "colab": {
          "base_uri": "https://localhost:8080/"
        },
        "id": "NTRCUaPkfL9I",
        "outputId": "f59fb34d-57c9-4d79-90b1-835249bb2d3b"
      },
      "execution_count": null,
      "outputs": [
        {
          "output_type": "stream",
          "name": "stdout",
          "text": [
            "['Algal_spot', 'Anthracnose', 'Birds eye spot', 'Brown blight', 'Gray blight', 'Healthy', 'Non tea leaf', 'Red leaf spot', 'White spot']\n"
          ]
        }
      ]
    },
    {
      "cell_type": "code",
      "source": [
        "# print total number of images in the dataset\n",
        "for class_i in class_names:\n",
        "    image_count = len(list(dataset_dir.glob(f'{class_i}/*.jpg')))\n",
        "    print(f\"Images in class {class_i}:\",image_count)"
      ],
      "metadata": {
        "colab": {
          "base_uri": "https://localhost:8080/"
        },
        "id": "-1enFtjPfMCg",
        "outputId": "36c03cae-b9b9-422c-fc8a-86f7cb943b37"
      },
      "execution_count": null,
      "outputs": [
        {
          "output_type": "stream",
          "name": "stdout",
          "text": [
            "Images in class Algal_spot: 1017\n",
            "Images in class Anthracnose: 891\n",
            "Images in class Birds eye spot: 900\n",
            "Images in class Brown blight: 1017\n",
            "Images in class Gray blight: 900\n",
            "Images in class Healthy: 981\n",
            "Images in class Non tea leaf: 1134\n",
            "Images in class Red leaf spot: 864\n",
            "Images in class White spot: 1071\n"
          ]
        }
      ]
    },
    {
      "cell_type": "code",
      "source": [],
      "metadata": {
        "id": "T6LKJ4yMfMGa"
      },
      "execution_count": null,
      "outputs": []
    },
    {
      "cell_type": "code",
      "source": [],
      "metadata": {
        "id": "pfpIJchMH4D6"
      },
      "execution_count": null,
      "outputs": []
    },
    {
      "cell_type": "code",
      "source": [],
      "metadata": {
        "id": "n1s-ysL-H4BJ"
      },
      "execution_count": null,
      "outputs": []
    },
    {
      "cell_type": "code",
      "source": [],
      "metadata": {
        "id": "5S23EhrFH3-p"
      },
      "execution_count": null,
      "outputs": []
    },
    {
      "cell_type": "code",
      "source": [],
      "metadata": {
        "id": "e79XeAtyH37h"
      },
      "execution_count": null,
      "outputs": []
    },
    {
      "cell_type": "code",
      "source": [],
      "metadata": {
        "id": "JapxMH_vH35S"
      },
      "execution_count": null,
      "outputs": []
    },
    {
      "cell_type": "code",
      "source": [],
      "metadata": {
        "id": "bbdO-6mBH32h"
      },
      "execution_count": null,
      "outputs": []
    },
    {
      "cell_type": "code",
      "source": [],
      "metadata": {
        "id": "H3dhOi6nH3zp"
      },
      "execution_count": null,
      "outputs": []
    },
    {
      "cell_type": "code",
      "source": [],
      "metadata": {
        "id": "x81zJoNIH3wh"
      },
      "execution_count": null,
      "outputs": []
    },
    {
      "cell_type": "code",
      "source": [],
      "metadata": {
        "id": "xLI0BqjOH3vp"
      },
      "execution_count": null,
      "outputs": []
    },
    {
      "cell_type": "code",
      "source": [],
      "metadata": {
        "id": "DD7ccdNlH3sh"
      },
      "execution_count": null,
      "outputs": []
    },
    {
      "cell_type": "code",
      "source": [],
      "metadata": {
        "id": "3suFTb1BH3qB"
      },
      "execution_count": null,
      "outputs": []
    },
    {
      "cell_type": "code",
      "source": [],
      "metadata": {
        "id": "gt1rRFiFH3my"
      },
      "execution_count": null,
      "outputs": []
    },
    {
      "cell_type": "code",
      "source": [],
      "metadata": {
        "id": "yut5zMjOH3jK"
      },
      "execution_count": null,
      "outputs": []
    },
    {
      "cell_type": "code",
      "source": [],
      "metadata": {
        "id": "QHOup4nUH3ci"
      },
      "execution_count": null,
      "outputs": []
    },
    {
      "cell_type": "code",
      "source": [],
      "metadata": {
        "id": "O5LC3f4EH3ZR"
      },
      "execution_count": null,
      "outputs": []
    }
  ]
}