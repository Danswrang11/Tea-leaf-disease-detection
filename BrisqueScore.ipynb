{
  "nbformat": 4,
  "nbformat_minor": 0,
  "metadata": {
    "colab": {
      "provenance": [],
      "gpuType": "T4",
      "mount_file_id": "1GN3y72TVMxqF-AVbANMQfj83xkjrvLLk",
      "authorship_tag": "ABX9TyOWvgI2jmDFx4GUxE9yP8Qn",
      "include_colab_link": true
    },
    "kernelspec": {
      "name": "python3",
      "display_name": "Python 3"
    },
    "language_info": {
      "name": "python"
    },
    "accelerator": "GPU"
  },
  "cells": [
    {
      "cell_type": "markdown",
      "metadata": {
        "id": "view-in-github",
        "colab_type": "text"
      },
      "source": [
        "<a href=\"https://colab.research.google.com/github/Danswrang11/Tea-leaf-disease-detection/blob/main/BrisqueScore.ipynb\" target=\"_parent\"><img src=\"https://colab.research.google.com/assets/colab-badge.svg\" alt=\"Open In Colab\"/></a>"
      ]
    },
    {
      "cell_type": "code",
      "execution_count": null,
      "metadata": {
        "colab": {
          "base_uri": "https://localhost:8080/"
        },
        "id": "qOXkyiketI0D",
        "outputId": "a4528572-9807-4ca7-a4ee-7e992def581c"
      },
      "outputs": [
        {
          "output_type": "stream",
          "name": "stdout",
          "text": [
            "Looking in indexes: https://pypi.org/simple, https://us-python.pkg.dev/colab-wheels/public/simple/\n",
            "Collecting image-quality\n",
            "  Downloading image_quality-1.2.7-py3-none-any.whl (146 kB)\n",
            "\u001b[2K     \u001b[90m━━━━━━━━━━━━━━━━━━━━━━━━━━━━━━━━━━━━━━━\u001b[0m \u001b[32m146.6/146.6 kB\u001b[0m \u001b[31m4.3 MB/s\u001b[0m eta \u001b[36m0:00:00\u001b[0m\n",
            "\u001b[?25hRequirement already satisfied: Pillow>=5.2.0 in /usr/local/lib/python3.10/dist-packages (from image-quality) (8.4.0)\n",
            "Requirement already satisfied: numpy>=1.16.4 in /usr/local/lib/python3.10/dist-packages (from image-quality) (1.22.4)\n",
            "Requirement already satisfied: scipy>=1.3.0 in /usr/local/lib/python3.10/dist-packages (from image-quality) (1.10.1)\n",
            "Requirement already satisfied: scikit-image>=0.15.0 in /usr/local/lib/python3.10/dist-packages (from image-quality) (0.19.3)\n",
            "Collecting libsvm>=3.23.0 (from image-quality)\n",
            "  Downloading libsvm-3.23.0.4.tar.gz (170 kB)\n",
            "\u001b[2K     \u001b[90m━━━━━━━━━━━━━━━━━━━━━━━━━━━━━━━━━━━━━━\u001b[0m \u001b[32m170.6/170.6 kB\u001b[0m \u001b[31m19.3 MB/s\u001b[0m eta \u001b[36m0:00:00\u001b[0m\n",
            "\u001b[?25h  Preparing metadata (setup.py) ... \u001b[?25l\u001b[?25hdone\n",
            "Requirement already satisfied: networkx>=2.2 in /usr/local/lib/python3.10/dist-packages (from scikit-image>=0.15.0->image-quality) (3.1)\n",
            "Requirement already satisfied: imageio>=2.4.1 in /usr/local/lib/python3.10/dist-packages (from scikit-image>=0.15.0->image-quality) (2.25.1)\n",
            "Requirement already satisfied: tifffile>=2019.7.26 in /usr/local/lib/python3.10/dist-packages (from scikit-image>=0.15.0->image-quality) (2023.4.12)\n",
            "Requirement already satisfied: PyWavelets>=1.1.1 in /usr/local/lib/python3.10/dist-packages (from scikit-image>=0.15.0->image-quality) (1.4.1)\n",
            "Requirement already satisfied: packaging>=20.0 in /usr/local/lib/python3.10/dist-packages (from scikit-image>=0.15.0->image-quality) (23.1)\n",
            "Building wheels for collected packages: libsvm\n",
            "  Building wheel for libsvm (setup.py) ... \u001b[?25l\u001b[?25hdone\n",
            "  Created wheel for libsvm: filename=libsvm-3.23.0.4-cp310-cp310-linux_x86_64.whl size=253851 sha256=b5b6162d215f9f2281a26ad36eb6f704a56dbcfaeb70ee344a82caefece22f09\n",
            "  Stored in directory: /root/.cache/pip/wheels/79/c7/19/a8c85928f8e629654b8e1adb3c8091f0bb77344d0ee9954a85\n",
            "Successfully built libsvm\n",
            "Installing collected packages: libsvm, image-quality\n",
            "Successfully installed image-quality-1.2.7 libsvm-3.23.0.4\n"
          ]
        }
      ],
      "source": [
        "pip install image-quality"
      ]
    },
    {
      "cell_type": "code",
      "source": [
        "pip install brisque"
      ],
      "metadata": {
        "colab": {
          "base_uri": "https://localhost:8080/"
        },
        "id": "o1qH-REZtb0n",
        "outputId": "20a8b770-0e6c-4e92-d7d8-b630564fd1a6"
      },
      "execution_count": null,
      "outputs": [
        {
          "output_type": "stream",
          "name": "stdout",
          "text": [
            "Looking in indexes: https://pypi.org/simple, https://us-python.pkg.dev/colab-wheels/public/simple/\n",
            "Collecting brisque\n",
            "  Downloading brisque-0.0.15-py3-none-any.whl (135 kB)\n",
            "\u001b[2K     \u001b[90m━━━━━━━━━━━━━━━━━━━━━━━━━━━━━━━━━━━━━━━\u001b[0m \u001b[32m135.6/135.6 kB\u001b[0m \u001b[31m4.5 MB/s\u001b[0m eta \u001b[36m0:00:00\u001b[0m\n",
            "\u001b[?25hRequirement already satisfied: numpy in /usr/local/lib/python3.10/dist-packages (from brisque) (1.22.4)\n",
            "Requirement already satisfied: scikit-image in /usr/local/lib/python3.10/dist-packages (from brisque) (0.19.3)\n",
            "Requirement already satisfied: scipy in /usr/local/lib/python3.10/dist-packages (from brisque) (1.10.1)\n",
            "Requirement already satisfied: opencv-python in /usr/local/lib/python3.10/dist-packages (from brisque) (4.7.0.72)\n",
            "Requirement already satisfied: libsvm in /usr/local/lib/python3.10/dist-packages (from brisque) (3.23.0.4)\n",
            "Requirement already satisfied: networkx>=2.2 in /usr/local/lib/python3.10/dist-packages (from scikit-image->brisque) (3.1)\n",
            "Requirement already satisfied: pillow!=7.1.0,!=7.1.1,!=8.3.0,>=6.1.0 in /usr/local/lib/python3.10/dist-packages (from scikit-image->brisque) (8.4.0)\n",
            "Requirement already satisfied: imageio>=2.4.1 in /usr/local/lib/python3.10/dist-packages (from scikit-image->brisque) (2.25.1)\n",
            "Requirement already satisfied: tifffile>=2019.7.26 in /usr/local/lib/python3.10/dist-packages (from scikit-image->brisque) (2023.4.12)\n",
            "Requirement already satisfied: PyWavelets>=1.1.1 in /usr/local/lib/python3.10/dist-packages (from scikit-image->brisque) (1.4.1)\n",
            "Requirement already satisfied: packaging>=20.0 in /usr/local/lib/python3.10/dist-packages (from scikit-image->brisque) (23.1)\n",
            "Installing collected packages: brisque\n",
            "Successfully installed brisque-0.0.15\n"
          ]
        }
      ]
    },
    {
      "cell_type": "code",
      "source": [
        "import cv2\n",
        "import os\n",
        "import imquality.brisque as brisque\n",
        "from brisque import BRISQUE"
      ],
      "metadata": {
        "id": "n7750BevtbxL"
      },
      "execution_count": null,
      "outputs": []
    },
    {
      "cell_type": "code",
      "source": [],
      "metadata": {
        "id": "q1GzxPBUmsxn"
      },
      "execution_count": null,
      "outputs": []
    },
    {
      "cell_type": "code",
      "source": [
        "# Set the paths to the folders containing the images\n",
        "folder_paths = ['/content/drive/MyDrive/Project/New_data/Good','/content/drive/MyDrive/Project/New_data/Infected']\n",
        "\n",
        "# Create a BRISQUE object\n",
        "brisque = BRISQUE()\n",
        "\n",
        "# Initialize a dictionary to store the scores\n",
        "scores = {}\n",
        "# Loop through each folder\n",
        "for folder_path in folder_paths:\n",
        "    folder_name = os.path.basename(os.path.normpath(folder_path))\n",
        "    scores[folder_name] = {}\n",
        "\n",
        "    # Loop through each image in the folder\n",
        "    for filename in os.listdir(folder_path):\n",
        "        if filename.endswith('.JPG') or filename.endswith('.png'): # Adjust file extension based on your images\n",
        "            # Load the image\n",
        "            img_path = os.path.join(folder_path, filename)\n",
        "            img = cv2.imread(img_path)\n",
        "\n",
        "            # Calculate the BRISQUE score\n",
        "            score = brisque.score(img)\n",
        "\n",
        "            # Add the score to the dictionary of scores\n",
        "            scores[folder_name][filename] = score\n",
        "\n",
        "# Print the scores\n",
        "print(\"BRISQUE Scores:\")\n",
        "for folder_name, folder_scores in scores.items():\n",
        "    print(f\"Folder: {folder_name}\")\n",
        "    for filename, score in folder_scores.items():\n",
        "        print(f\"\\t{filename}: {score:.2f}\")"
      ],
      "metadata": {
        "colab": {
          "base_uri": "https://localhost:8080/"
        },
        "id": "FQIv5emtkmcX",
        "outputId": "adda5015-4896-426a-8ac4-131025eee7f3"
      },
      "execution_count": null,
      "outputs": [
        {
          "output_type": "stream",
          "name": "stdout",
          "text": [
            "BRISQUE Scores:\n",
            "Folder: Good\n",
            "\tA11I5332.JPG: 69.07\n",
            "\tA11I5331.JPG: 56.32\n",
            "\tA11I5330.JPG: 78.40\n",
            "\tA11I5329.JPG: 63.33\n",
            "\tA11I5328.JPG: 82.94\n",
            "\tA11I5324.JPG: 82.05\n",
            "\tA11I5325.JPG: 60.50\n",
            "\tA11I5326.JPG: 59.70\n",
            "\tA11I5327.JPG: 60.25\n",
            "\tA11I5323.JPG: 63.94\n",
            "\tA11I5321.JPG: 43.60\n",
            "\tA11I5320.JPG: 78.75\n",
            "\tA11I5318.JPG: 65.53\n",
            "\tA11I5322.JPG: 69.28\n",
            "\tA11I5319.JPG: 57.47\n",
            "\tA11I5316.JPG: 78.75\n",
            "\tA11I5314.JPG: 74.31\n",
            "\tA11I5315.JPG: 45.90\n",
            "\tA11I5317.JPG: 45.86\n",
            "\tA11I5313.JPG: 65.69\n",
            "\tA11I5333.JPG: 46.34\n",
            "Folder: Infected\n",
            "\tA11I5366.JPG: 98.02\n",
            "\tA11I5367.JPG: 81.81\n",
            "\tA11I5365.JPG: 103.89\n",
            "\tA11I5292.JPG: 67.28\n",
            "\tA11I5368.JPG: 78.32\n",
            "\tA11I5291.JPG: 85.74\n",
            "\tA11I5290.JPG: 86.18\n",
            "\tA11I5289.JPG: 59.73\n",
            "\tA11I5288.JPG: 63.10\n",
            "\tA11I5287.JPG: 79.86\n",
            "\tA11I5379.JPG: 87.60\n",
            "\tA11I5375.JPG: 86.64\n",
            "\tA11I5378.JPG: 70.73\n",
            "\tA11I5377.JPG: 93.48\n",
            "\tA11I5376.JPG: 88.21\n",
            "\tA11I5373.JPG: 72.38\n",
            "\tA11I5374.JPG: 91.96\n",
            "\tA11I5370.JPG: 87.32\n",
            "\tA11I5372.JPG: 89.67\n",
            "\tA11I5369.JPG: 93.52\n"
          ]
        }
      ]
    }
  ]
}