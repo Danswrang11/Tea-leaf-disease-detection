{
  "nbformat": 4,
  "nbformat_minor": 0,
  "metadata": {
    "colab": {
      "provenance": [],
      "mount_file_id": "1EBmYmKK-kTM-ulqNxDxjUza7mjeU6L_J",
      "authorship_tag": "ABX9TyNaWyBcVhOHX3ArfKNwNBt2",
      "include_colab_link": true
    },
    "kernelspec": {
      "name": "python3",
      "display_name": "Python 3"
    },
    "language_info": {
      "name": "python"
    }
  },
  "cells": [
    {
      "cell_type": "markdown",
      "metadata": {
        "id": "view-in-github",
        "colab_type": "text"
      },
      "source": [
        "<a href=\"https://colab.research.google.com/github/Danswrang11/Tea-leaf-disease-detection/blob/main/Part_3.ipynb\" target=\"_parent\"><img src=\"https://colab.research.google.com/assets/colab-badge.svg\" alt=\"Open In Colab\"/></a>"
      ]
    },
    {
      "cell_type": "markdown",
      "source": [
        "# Data Preprocessing"
      ],
      "metadata": {
        "id": "U9XfyrT5PDKi"
      }
    },
    {
      "cell_type": "code",
      "source": [
        "import os\n",
        "from PIL import Image\n",
        "import shutil\n",
        "\n",
        "input_directory = \"/content/drive/MyDrive/Project/Dataset_1\"\n",
        "output_directory = \"/content/drive/MyDrive/Project/Dataset_2\"\n",
        "image_size = (224, 224)  # Set the desired image size for resizing\n",
        "\n",
        "# Create the output directory if it doesn't exist\n",
        "if not os.path.exists(output_directory):\n",
        "    os.makedirs(output_directory)\n",
        "\n",
        "# Preprocess the images while preserve the folder structure\n",
        "for class_name in os.listdir(input_directory):\n",
        "    class_directory = os.path.join(input_directory, class_name)\n",
        "    output_class_directory = os.path.join(output_directory, class_name)\n",
        "\n",
        "    # Create the output class directory if it doesn't exist\n",
        "    if not os.path.exists(output_class_directory):\n",
        "        os.makedirs(output_class_directory)\n",
        "\n",
        "    for filename in os.listdir(class_directory):\n",
        "        if filename.endswith(\".jpg\") or filename.endswith(\".JPG\"):\n",
        "            image_path = os.path.join(class_directory, filename)\n",
        "            output_path = os.path.join(output_class_directory, filename)\n",
        "\n",
        "            img = Image.open(image_path)\n",
        "\n",
        "            # Resize the image\n",
        "            img = img.resize(image_size)\n",
        "\n",
        "            # Convert to numpy array and normalize pixel values\n",
        "            img_array = np.array(img)\n",
        "            img_array = img_array / 255.0\n",
        "\n",
        "            # Convert to grayscale if needed\n",
        "            # img = img.convert(\"L\")\n",
        "\n",
        "            # Save the preprocessed image\n",
        "            img.save(output_path)\n",
        "\n",
        "\n",
        "print(\"Data preprocessing completed.\")\n"
      ],
      "metadata": {
        "colab": {
          "base_uri": "https://localhost:8080/"
        },
        "id": "I1Wl4wmZPSPZ",
        "outputId": "5c8c57a8-e02d-4897-dce8-4da195bba635"
      },
      "execution_count": null,
      "outputs": [
        {
          "output_type": "stream",
          "name": "stdout",
          "text": [
            "Data preprocessing completed.\n"
          ]
        }
      ]
    },
    {
      "cell_type": "markdown",
      "source": [
        "# Image Augmentation"
      ],
      "metadata": {
        "id": "box_BpKPcC-5"
      }
    },
    {
      "cell_type": "code",
      "source": [
        "from PIL import Image\n",
        "import os"
      ],
      "metadata": {
        "id": "LVZKQJIDPSMa"
      },
      "execution_count": null,
      "outputs": []
    },
    {
      "cell_type": "code",
      "source": [
        "# Set the list of directories where the images are stored\n",
        "directories = [\"/content/drive/MyDrive/Project/Dataset_1/Algal_spot\", \"/content/drive/MyDrive/Project/Dataset_1/Anthracnose\",\n",
        "               \"/content/drive/MyDrive/Project/Dataset_1/Birds eye spot\", \"/content/drive/MyDrive/Project/Dataset_1/Brown blight\",\n",
        "               \"/content/drive/MyDrive/Project/Dataset_1/Gray blight\",\"/content/drive/MyDrive/Project/Dataset_1/Healthy\",\n",
        "               \"/content/drive/MyDrive/Project/Dataset_1/Non tea leaf\",\"/content/drive/MyDrive/Project/Dataset_1/Red leaf spot\",\n",
        "               \"/content/drive/MyDrive/Project/Dataset_1/White spot\"]\n",
        "\n",
        "# Loop through each directory\n",
        "for directory in directories:\n",
        "    # Loop through each file in the directory\n",
        "    for filename in os.listdir(directory):\n",
        "        if filename.endswith(\".JPG\") or filename.endswith('.jpg'):\n",
        "            # Open the image file using Pillow\n",
        "            img = Image.open(os.path.join(directory, filename))\n",
        "\n",
        "            # Perform the image augmentations\n",
        "            # Rotate by 90 degrees\n",
        "            rotated_img = img.rotate(90)\n",
        "            rotated_img.save(os.path.join(directory, \"r90_\" + filename))\n",
        "\n",
        "            # Flip the rotated image horizontally\n",
        "            flipped_img = rotated_img.transpose(Image.FLIP_LEFT_RIGHT)\n",
        "            flipped_img.save(os.path.join(directory, \"r90_flipped_h_\" + filename))\n",
        "\n",
        "            # Flip the rotated image vertically\n",
        "            flipped_img = rotated_img.transpose(Image.FLIP_TOP_BOTTOM)\n",
        "            flipped_img.save(os.path.join(directory, \"r90_flipped_v_\" + filename))\n",
        "\n",
        "            # Rotate by -90 degrees\n",
        "            rotated_img = img.rotate(-90)\n",
        "            rotated_img.save(os.path.join(directory, \"r-90_\" + filename))\n",
        "\n",
        "            # Flip the rotated image horizontally\n",
        "            flipped_img = rotated_img.transpose(Image.FLIP_LEFT_RIGHT)\n",
        "            flipped_img.save(os.path.join(directory, \"r-90_flipped_h_\" + filename))\n",
        "\n",
        "            # Flip the rotated image vertically\n",
        "            flipped_img = rotated_img.transpose(Image.FLIP_TOP_BOTTOM)\n",
        "            flipped_img.save(os.path.join(directory, \"r-90_flipped_v_\" + filename))\n",
        "\n",
        "            # Flip the original image horizontally\n",
        "            flipped_original_img = img.transpose(Image.FLIP_LEFT_RIGHT)\n",
        "            flipped_original_img.save(os.path.join(directory, \"flipped_h_\" + filename))\n",
        "\n",
        "            # Flip the rotated image vertically\n",
        "            flipped_original_img = img.transpose(Image.FLIP_TOP_BOTTOM)\n",
        "            flipped_original_img.save(os.path.join(directory, \"flipped_v_\" + filename))"
      ],
      "metadata": {
        "id": "KFAe_Q2MPSKK"
      },
      "execution_count": null,
      "outputs": []
    },
    {
      "cell_type": "code",
      "source": [
        "from PIL import Image\n",
        "import os\n",
        "import pathlib"
      ],
      "metadata": {
        "id": "Ut-quRu6hvcS"
      },
      "execution_count": null,
      "outputs": []
    },
    {
      "cell_type": "code",
      "source": [
        "dataset_path = \"/content/drive/MyDrive/Project/Dataset_2\"\n",
        "dataset_dir = pathlib.Path(dataset_path)"
      ],
      "metadata": {
        "id": "fYLrrvWRPSHa"
      },
      "execution_count": null,
      "outputs": []
    },
    {
      "cell_type": "code",
      "source": [
        "# list of sub directory(class)\n",
        "class_names = []\n",
        "for root, dirs, files in os.walk(dataset_path):\n",
        "    if root != dataset_path:\n",
        "        x_class = os.path.basename(root)\n",
        "        if x_class not in class_names:\n",
        "            class_names.append(x_class)\n",
        "\n",
        "print(class_names)"
      ],
      "metadata": {
        "colab": {
          "base_uri": "https://localhost:8080/"
        },
        "id": "jvLDpQfpPSES",
        "outputId": "e34d30bd-1385-410e-8b9a-24effd4ed221"
      },
      "execution_count": null,
      "outputs": [
        {
          "output_type": "stream",
          "name": "stdout",
          "text": [
            "['Red leaf spot', 'Brown blight', 'Anthracnose', 'Non tea leaf', 'Algal_spot', 'White spot', 'Birds eye spot', 'Gray blight', 'Healthy']\n"
          ]
        }
      ]
    },
    {
      "cell_type": "code",
      "source": [
        "# print total number of images in the dataset\n",
        "for class_i in class_names:\n",
        "    image_count = len(list(dataset_dir.glob(f'{class_i}/*.jpg')))\n",
        "    print(f\"Images in class {class_i}:\",image_count)"
      ],
      "metadata": {
        "colab": {
          "base_uri": "https://localhost:8080/"
        },
        "id": "xG4c5VajPR-x",
        "outputId": "2ee5e0f1-b5be-418e-d1fe-672bfd477101"
      },
      "execution_count": null,
      "outputs": [
        {
          "output_type": "stream",
          "name": "stdout",
          "text": [
            "Images in class Red leaf spot: 864\n",
            "Images in class Brown blight: 1017\n",
            "Images in class Anthracnose: 891\n",
            "Images in class Non tea leaf: 1134\n",
            "Images in class Algal_spot: 1017\n",
            "Images in class White spot: 1071\n",
            "Images in class Birds eye spot: 900\n",
            "Images in class Gray blight: 900\n",
            "Images in class Healthy: 981\n"
          ]
        }
      ]
    },
    {
      "cell_type": "code",
      "source": [],
      "metadata": {
        "id": "i2dukZJuPR8F"
      },
      "execution_count": null,
      "outputs": []
    },
    {
      "cell_type": "code",
      "source": [],
      "metadata": {
        "id": "5wbM0od5PR5y"
      },
      "execution_count": null,
      "outputs": []
    },
    {
      "cell_type": "code",
      "source": [],
      "metadata": {
        "id": "049_BKSaPR2U"
      },
      "execution_count": null,
      "outputs": []
    },
    {
      "cell_type": "code",
      "source": [],
      "metadata": {
        "id": "MpYmcEZTPRzy"
      },
      "execution_count": null,
      "outputs": []
    },
    {
      "cell_type": "code",
      "source": [],
      "metadata": {
        "id": "hZHP5jWaPRxi"
      },
      "execution_count": null,
      "outputs": []
    },
    {
      "cell_type": "code",
      "source": [],
      "metadata": {
        "id": "o30imwSnPRt5"
      },
      "execution_count": null,
      "outputs": []
    },
    {
      "cell_type": "code",
      "source": [],
      "metadata": {
        "id": "IM_j2sc0PRoB"
      },
      "execution_count": null,
      "outputs": []
    }
  ]
}